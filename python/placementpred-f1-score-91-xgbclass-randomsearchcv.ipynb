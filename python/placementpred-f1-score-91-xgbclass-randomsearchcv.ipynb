{
 "cells": [
  {
   "cell_type": "code",
   "execution_count": 1,
   "id": "1890ee22",
   "metadata": {
    "_cell_guid": "b1076dfc-b9ad-4769-8c92-a6c4dae69d19",
    "_uuid": "8f2839f25d086af736a60e9eeb907d3b93b6e0e5",
    "execution": {
     "iopub.execute_input": "2021-09-06T10:11:32.346413Z",
     "iopub.status.busy": "2021-09-06T10:11:32.344582Z",
     "iopub.status.idle": "2021-09-06T10:11:32.364998Z",
     "shell.execute_reply": "2021-09-06T10:11:32.365538Z",
     "shell.execute_reply.started": "2021-09-06T09:43:36.441617Z"
    },
    "papermill": {
     "duration": 0.057741,
     "end_time": "2021-09-06T10:11:32.365815",
     "exception": false,
     "start_time": "2021-09-06T10:11:32.308074",
     "status": "completed"
    },
    "tags": []
   },
   "outputs": [
    {
     "name": "stdout",
     "output_type": "stream",
     "text": [
      "/kaggle/input/engineering-placements-prediction/collegePlace.csv\n"
     ]
    }
   ],
   "source": [
    "# This Python 3 environment comes with many helpful analytics libraries installed\n",
    "# It is defined by the kaggle/python Docker image: https://github.com/kaggle/docker-python\n",
    "# For example, here's several helpful packages to load\n",
    "\n",
    "import numpy as np # linear algebra\n",
    "import pandas as pd # data processing, CSV file I/O (e.g. pd.read_csv)\n",
    "\n",
    "# Input data files are available in the read-only \"../input/\" directory\n",
    "# For example, running this (by clicking run or pressing Shift+Enter) will list all files under the input directory\n",
    "\n",
    "import os\n",
    "for dirname, _, filenames in os.walk('/kaggle/input'):\n",
    "    for filename in filenames:\n",
    "        print(os.path.join(dirname, filename))\n",
    "\n",
    "# You can write up to 20GB to the current directory (/kaggle/working/) that gets preserved as output when you create a version using \"Save & Run All\" \n",
    "# You can also write temporary files to /kaggle/temp/, but they won't be saved outside of the current session"
   ]
  },
  {
   "cell_type": "markdown",
   "id": "fc3afe27",
   "metadata": {
    "papermill": {
     "duration": 0.030929,
     "end_time": "2021-09-06T10:11:32.429245",
     "exception": false,
     "start_time": "2021-09-06T10:11:32.398316",
     "status": "completed"
    },
    "tags": []
   },
   "source": [
    "# Placement Prediction Using XGB Classifier and Randomized Search CV "
   ]
  },
  {
   "cell_type": "markdown",
   "id": "e151f4a3",
   "metadata": {
    "papermill": {
     "duration": 0.030717,
     "end_time": "2021-09-06T10:11:32.491166",
     "exception": false,
     "start_time": "2021-09-06T10:11:32.460449",
     "status": "completed"
    },
    "tags": []
   },
   "source": [
    "# Importing Necessary Libraries"
   ]
  },
  {
   "cell_type": "code",
   "execution_count": 2,
   "id": "259adcbf",
   "metadata": {
    "execution": {
     "iopub.execute_input": "2021-09-06T10:11:32.558591Z",
     "iopub.status.busy": "2021-09-06T10:11:32.557632Z",
     "iopub.status.idle": "2021-09-06T10:11:35.354063Z",
     "shell.execute_reply": "2021-09-06T10:11:35.354594Z",
     "shell.execute_reply.started": "2021-09-06T09:43:36.456821Z"
    },
    "papermill": {
     "duration": 2.832405,
     "end_time": "2021-09-06T10:11:35.354785",
     "exception": false,
     "start_time": "2021-09-06T10:11:32.522380",
     "status": "completed"
    },
    "tags": []
   },
   "outputs": [],
   "source": [
    "import numpy as np\n",
    "import pandas as pd \n",
    "import matplotlib.pyplot as plt\n",
    "import plotly.express as px\n",
    "import seaborn as sns\n",
    "%matplotlib inline\n",
    "from sklearn.preprocessing import LabelEncoder\n",
    "from sklearn.model_selection import train_test_split\n",
    "from sklearn.linear_model import LinearRegression\n",
    "from sklearn.ensemble import RandomForestRegressor\n",
    "import sklearn.metrics as metrics\n",
    "import os\n",
    "from sklearn.preprocessing import LabelEncoder\n",
    "from sklearn.model_selection import train_test_split,RandomizedSearchCV\n",
    "from sklearn.linear_model import LogisticRegression\n",
    "from sklearn.svm import SVC\n",
    "from sklearn.metrics import accuracy_score\n",
    "import seaborn as sns"
   ]
  },
  {
   "cell_type": "markdown",
   "id": "a3c9cb07",
   "metadata": {
    "papermill": {
     "duration": 0.030922,
     "end_time": "2021-09-06T10:11:35.417209",
     "exception": false,
     "start_time": "2021-09-06T10:11:35.386287",
     "status": "completed"
    },
    "tags": []
   },
   "source": [
    "# Reading Data"
   ]
  },
  {
   "cell_type": "code",
   "execution_count": 3,
   "id": "096483e4",
   "metadata": {
    "execution": {
     "iopub.execute_input": "2021-09-06T10:11:35.486154Z",
     "iopub.status.busy": "2021-09-06T10:11:35.485480Z",
     "iopub.status.idle": "2021-09-06T10:11:35.502981Z",
     "shell.execute_reply": "2021-09-06T10:11:35.503514Z",
     "shell.execute_reply.started": "2021-09-06T09:43:39.500811Z"
    },
    "papermill": {
     "duration": 0.054049,
     "end_time": "2021-09-06T10:11:35.503700",
     "exception": false,
     "start_time": "2021-09-06T10:11:35.449651",
     "status": "completed"
    },
    "tags": []
   },
   "outputs": [],
   "source": [
    "data = pd.read_csv('/kaggle/input/engineering-placements-prediction/collegePlace.csv')"
   ]
  },
  {
   "cell_type": "code",
   "execution_count": 4,
   "id": "e01490d6",
   "metadata": {
    "execution": {
     "iopub.execute_input": "2021-09-06T10:11:35.570038Z",
     "iopub.status.busy": "2021-09-06T10:11:35.569076Z",
     "iopub.status.idle": "2021-09-06T10:11:35.594368Z",
     "shell.execute_reply": "2021-09-06T10:11:35.595061Z",
     "shell.execute_reply.started": "2021-09-06T09:43:39.524693Z"
    },
    "papermill": {
     "duration": 0.060083,
     "end_time": "2021-09-06T10:11:35.595254",
     "exception": false,
     "start_time": "2021-09-06T10:11:35.535171",
     "status": "completed"
    },
    "tags": []
   },
   "outputs": [
    {
     "data": {
      "text/html": [
       "<div>\n",
       "<style scoped>\n",
       "    .dataframe tbody tr th:only-of-type {\n",
       "        vertical-align: middle;\n",
       "    }\n",
       "\n",
       "    .dataframe tbody tr th {\n",
       "        vertical-align: top;\n",
       "    }\n",
       "\n",
       "    .dataframe thead th {\n",
       "        text-align: right;\n",
       "    }\n",
       "</style>\n",
       "<table border=\"1\" class=\"dataframe\">\n",
       "  <thead>\n",
       "    <tr style=\"text-align: right;\">\n",
       "      <th></th>\n",
       "      <th>Age</th>\n",
       "      <th>Gender</th>\n",
       "      <th>Stream</th>\n",
       "      <th>Internships</th>\n",
       "      <th>CGPA</th>\n",
       "      <th>Hostel</th>\n",
       "      <th>HistoryOfBacklogs</th>\n",
       "      <th>PlacedOrNot</th>\n",
       "    </tr>\n",
       "  </thead>\n",
       "  <tbody>\n",
       "    <tr>\n",
       "      <th>0</th>\n",
       "      <td>22</td>\n",
       "      <td>Male</td>\n",
       "      <td>Electronics And Communication</td>\n",
       "      <td>1</td>\n",
       "      <td>8</td>\n",
       "      <td>1</td>\n",
       "      <td>1</td>\n",
       "      <td>1</td>\n",
       "    </tr>\n",
       "    <tr>\n",
       "      <th>1</th>\n",
       "      <td>21</td>\n",
       "      <td>Female</td>\n",
       "      <td>Computer Science</td>\n",
       "      <td>0</td>\n",
       "      <td>7</td>\n",
       "      <td>1</td>\n",
       "      <td>1</td>\n",
       "      <td>1</td>\n",
       "    </tr>\n",
       "    <tr>\n",
       "      <th>2</th>\n",
       "      <td>22</td>\n",
       "      <td>Female</td>\n",
       "      <td>Information Technology</td>\n",
       "      <td>1</td>\n",
       "      <td>6</td>\n",
       "      <td>0</td>\n",
       "      <td>0</td>\n",
       "      <td>1</td>\n",
       "    </tr>\n",
       "    <tr>\n",
       "      <th>3</th>\n",
       "      <td>21</td>\n",
       "      <td>Male</td>\n",
       "      <td>Information Technology</td>\n",
       "      <td>0</td>\n",
       "      <td>8</td>\n",
       "      <td>0</td>\n",
       "      <td>1</td>\n",
       "      <td>1</td>\n",
       "    </tr>\n",
       "    <tr>\n",
       "      <th>4</th>\n",
       "      <td>22</td>\n",
       "      <td>Male</td>\n",
       "      <td>Mechanical</td>\n",
       "      <td>0</td>\n",
       "      <td>8</td>\n",
       "      <td>1</td>\n",
       "      <td>0</td>\n",
       "      <td>1</td>\n",
       "    </tr>\n",
       "  </tbody>\n",
       "</table>\n",
       "</div>"
      ],
      "text/plain": [
       "   Age  Gender                         Stream  Internships  CGPA  Hostel  \\\n",
       "0   22    Male  Electronics And Communication            1     8       1   \n",
       "1   21  Female               Computer Science            0     7       1   \n",
       "2   22  Female         Information Technology            1     6       0   \n",
       "3   21    Male         Information Technology            0     8       0   \n",
       "4   22    Male                     Mechanical            0     8       1   \n",
       "\n",
       "   HistoryOfBacklogs  PlacedOrNot  \n",
       "0                  1            1  \n",
       "1                  1            1  \n",
       "2                  0            1  \n",
       "3                  1            1  \n",
       "4                  0            1  "
      ]
     },
     "execution_count": 4,
     "metadata": {},
     "output_type": "execute_result"
    }
   ],
   "source": [
    "data.head()"
   ]
  },
  {
   "cell_type": "markdown",
   "id": "baba9f73",
   "metadata": {
    "papermill": {
     "duration": 0.031646,
     "end_time": "2021-09-06T10:11:35.659946",
     "exception": false,
     "start_time": "2021-09-06T10:11:35.628300",
     "status": "completed"
    },
    "tags": []
   },
   "source": [
    "# Preprocessing Data"
   ]
  },
  {
   "cell_type": "markdown",
   "id": "5271a4ef",
   "metadata": {
    "papermill": {
     "duration": 0.031652,
     "end_time": "2021-09-06T10:11:35.723524",
     "exception": false,
     "start_time": "2021-09-06T10:11:35.691872",
     "status": "completed"
    },
    "tags": []
   },
   "source": [
    "## Checking for Null values"
   ]
  },
  {
   "cell_type": "code",
   "execution_count": 5,
   "id": "08443a0e",
   "metadata": {
    "execution": {
     "iopub.execute_input": "2021-09-06T10:11:35.791797Z",
     "iopub.status.busy": "2021-09-06T10:11:35.790846Z",
     "iopub.status.idle": "2021-09-06T10:11:35.799564Z",
     "shell.execute_reply": "2021-09-06T10:11:35.800004Z",
     "shell.execute_reply.started": "2021-09-06T09:43:39.557178Z"
    },
    "papermill": {
     "duration": 0.04451,
     "end_time": "2021-09-06T10:11:35.800170",
     "exception": false,
     "start_time": "2021-09-06T10:11:35.755660",
     "status": "completed"
    },
    "tags": []
   },
   "outputs": [
    {
     "data": {
      "text/plain": [
       "Age                  0\n",
       "Gender               0\n",
       "Stream               0\n",
       "Internships          0\n",
       "CGPA                 0\n",
       "Hostel               0\n",
       "HistoryOfBacklogs    0\n",
       "PlacedOrNot          0\n",
       "dtype: int64"
      ]
     },
     "execution_count": 5,
     "metadata": {},
     "output_type": "execute_result"
    }
   ],
   "source": [
    "data.isnull().sum()"
   ]
  },
  {
   "cell_type": "markdown",
   "id": "ec0edfe6",
   "metadata": {
    "papermill": {
     "duration": 0.032236,
     "end_time": "2021-09-06T10:11:35.864904",
     "exception": false,
     "start_time": "2021-09-06T10:11:35.832668",
     "status": "completed"
    },
    "tags": []
   },
   "source": [
    "## Checking for datatypes"
   ]
  },
  {
   "cell_type": "code",
   "execution_count": 6,
   "id": "e1972caf",
   "metadata": {
    "execution": {
     "iopub.execute_input": "2021-09-06T10:11:35.933225Z",
     "iopub.status.busy": "2021-09-06T10:11:35.932345Z",
     "iopub.status.idle": "2021-09-06T10:11:35.953201Z",
     "shell.execute_reply": "2021-09-06T10:11:35.952422Z",
     "shell.execute_reply.started": "2021-09-06T09:43:39.570177Z"
    },
    "papermill": {
     "duration": 0.055976,
     "end_time": "2021-09-06T10:11:35.953399",
     "exception": false,
     "start_time": "2021-09-06T10:11:35.897423",
     "status": "completed"
    },
    "tags": []
   },
   "outputs": [
    {
     "name": "stdout",
     "output_type": "stream",
     "text": [
      "<class 'pandas.core.frame.DataFrame'>\n",
      "RangeIndex: 2966 entries, 0 to 2965\n",
      "Data columns (total 8 columns):\n",
      " #   Column             Non-Null Count  Dtype \n",
      "---  ------             --------------  ----- \n",
      " 0   Age                2966 non-null   int64 \n",
      " 1   Gender             2966 non-null   object\n",
      " 2   Stream             2966 non-null   object\n",
      " 3   Internships        2966 non-null   int64 \n",
      " 4   CGPA               2966 non-null   int64 \n",
      " 5   Hostel             2966 non-null   int64 \n",
      " 6   HistoryOfBacklogs  2966 non-null   int64 \n",
      " 7   PlacedOrNot        2966 non-null   int64 \n",
      "dtypes: int64(6), object(2)\n",
      "memory usage: 185.5+ KB\n"
     ]
    }
   ],
   "source": [
    "data.info()"
   ]
  },
  {
   "cell_type": "markdown",
   "id": "ff6ef8fb",
   "metadata": {
    "papermill": {
     "duration": 0.032998,
     "end_time": "2021-09-06T10:11:36.020731",
     "exception": false,
     "start_time": "2021-09-06T10:11:35.987733",
     "status": "completed"
    },
    "tags": []
   },
   "source": [
    "## Gender and Stream are object type"
   ]
  },
  {
   "cell_type": "markdown",
   "id": "248eeb83",
   "metadata": {
    "papermill": {
     "duration": 0.033082,
     "end_time": "2021-09-06T10:11:36.086949",
     "exception": false,
     "start_time": "2021-09-06T10:11:36.053867",
     "status": "completed"
    },
    "tags": []
   },
   "source": [
    "## Encoding Category Data"
   ]
  },
  {
   "cell_type": "code",
   "execution_count": 7,
   "id": "c97c8494",
   "metadata": {
    "execution": {
     "iopub.execute_input": "2021-09-06T10:11:36.160252Z",
     "iopub.status.busy": "2021-09-06T10:11:36.159397Z",
     "iopub.status.idle": "2021-09-06T10:11:36.162801Z",
     "shell.execute_reply": "2021-09-06T10:11:36.163352Z",
     "shell.execute_reply.started": "2021-09-06T09:43:39.602423Z"
    },
    "papermill": {
     "duration": 0.043644,
     "end_time": "2021-09-06T10:11:36.163517",
     "exception": false,
     "start_time": "2021-09-06T10:11:36.119873",
     "status": "completed"
    },
    "tags": []
   },
   "outputs": [
    {
     "data": {
      "text/plain": [
       "array(['Male', 'Female'], dtype=object)"
      ]
     },
     "execution_count": 7,
     "metadata": {},
     "output_type": "execute_result"
    }
   ],
   "source": [
    "data['Gender'].unique()"
   ]
  },
  {
   "cell_type": "code",
   "execution_count": 8,
   "id": "a2f53c11",
   "metadata": {
    "execution": {
     "iopub.execute_input": "2021-09-06T10:11:36.232882Z",
     "iopub.status.busy": "2021-09-06T10:11:36.231971Z",
     "iopub.status.idle": "2021-09-06T10:11:36.237935Z",
     "shell.execute_reply": "2021-09-06T10:11:36.238479Z",
     "shell.execute_reply.started": "2021-09-06T09:43:39.611409Z"
    },
    "papermill": {
     "duration": 0.04233,
     "end_time": "2021-09-06T10:11:36.238656",
     "exception": false,
     "start_time": "2021-09-06T10:11:36.196326",
     "status": "completed"
    },
    "tags": []
   },
   "outputs": [
    {
     "data": {
      "text/plain": [
       "array(['Electronics And Communication', 'Computer Science',\n",
       "       'Information Technology', 'Mechanical', 'Electrical', 'Civil'],\n",
       "      dtype=object)"
      ]
     },
     "execution_count": 8,
     "metadata": {},
     "output_type": "execute_result"
    }
   ],
   "source": [
    "data['Stream'].unique()"
   ]
  },
  {
   "cell_type": "code",
   "execution_count": 9,
   "id": "48311496",
   "metadata": {
    "execution": {
     "iopub.execute_input": "2021-09-06T10:11:36.309818Z",
     "iopub.status.busy": "2021-09-06T10:11:36.308857Z",
     "iopub.status.idle": "2021-09-06T10:11:36.316159Z",
     "shell.execute_reply": "2021-09-06T10:11:36.316624Z",
     "shell.execute_reply.started": "2021-09-06T09:43:39.629315Z"
    },
    "papermill": {
     "duration": 0.044365,
     "end_time": "2021-09-06T10:11:36.316791",
     "exception": false,
     "start_time": "2021-09-06T10:11:36.272426",
     "status": "completed"
    },
    "tags": []
   },
   "outputs": [],
   "source": [
    "en = LabelEncoder()\n",
    "catCols = ['Gender','Stream']\n",
    "for cols in catCols:\n",
    "    data[cols] = en.fit_transform(data[cols])"
   ]
  },
  {
   "cell_type": "code",
   "execution_count": 10,
   "id": "8c3666cc",
   "metadata": {
    "execution": {
     "iopub.execute_input": "2021-09-06T10:11:36.387219Z",
     "iopub.status.busy": "2021-09-06T10:11:36.386305Z",
     "iopub.status.idle": "2021-09-06T10:11:36.397614Z",
     "shell.execute_reply": "2021-09-06T10:11:36.398127Z",
     "shell.execute_reply.started": "2021-09-06T09:43:39.64136Z"
    },
    "papermill": {
     "duration": 0.048505,
     "end_time": "2021-09-06T10:11:36.398307",
     "exception": false,
     "start_time": "2021-09-06T10:11:36.349802",
     "status": "completed"
    },
    "tags": []
   },
   "outputs": [
    {
     "data": {
      "text/html": [
       "<div>\n",
       "<style scoped>\n",
       "    .dataframe tbody tr th:only-of-type {\n",
       "        vertical-align: middle;\n",
       "    }\n",
       "\n",
       "    .dataframe tbody tr th {\n",
       "        vertical-align: top;\n",
       "    }\n",
       "\n",
       "    .dataframe thead th {\n",
       "        text-align: right;\n",
       "    }\n",
       "</style>\n",
       "<table border=\"1\" class=\"dataframe\">\n",
       "  <thead>\n",
       "    <tr style=\"text-align: right;\">\n",
       "      <th></th>\n",
       "      <th>Age</th>\n",
       "      <th>Gender</th>\n",
       "      <th>Stream</th>\n",
       "      <th>Internships</th>\n",
       "      <th>CGPA</th>\n",
       "      <th>Hostel</th>\n",
       "      <th>HistoryOfBacklogs</th>\n",
       "      <th>PlacedOrNot</th>\n",
       "    </tr>\n",
       "  </thead>\n",
       "  <tbody>\n",
       "    <tr>\n",
       "      <th>0</th>\n",
       "      <td>22</td>\n",
       "      <td>1</td>\n",
       "      <td>3</td>\n",
       "      <td>1</td>\n",
       "      <td>8</td>\n",
       "      <td>1</td>\n",
       "      <td>1</td>\n",
       "      <td>1</td>\n",
       "    </tr>\n",
       "    <tr>\n",
       "      <th>1</th>\n",
       "      <td>21</td>\n",
       "      <td>0</td>\n",
       "      <td>1</td>\n",
       "      <td>0</td>\n",
       "      <td>7</td>\n",
       "      <td>1</td>\n",
       "      <td>1</td>\n",
       "      <td>1</td>\n",
       "    </tr>\n",
       "    <tr>\n",
       "      <th>2</th>\n",
       "      <td>22</td>\n",
       "      <td>0</td>\n",
       "      <td>4</td>\n",
       "      <td>1</td>\n",
       "      <td>6</td>\n",
       "      <td>0</td>\n",
       "      <td>0</td>\n",
       "      <td>1</td>\n",
       "    </tr>\n",
       "    <tr>\n",
       "      <th>3</th>\n",
       "      <td>21</td>\n",
       "      <td>1</td>\n",
       "      <td>4</td>\n",
       "      <td>0</td>\n",
       "      <td>8</td>\n",
       "      <td>0</td>\n",
       "      <td>1</td>\n",
       "      <td>1</td>\n",
       "    </tr>\n",
       "    <tr>\n",
       "      <th>4</th>\n",
       "      <td>22</td>\n",
       "      <td>1</td>\n",
       "      <td>5</td>\n",
       "      <td>0</td>\n",
       "      <td>8</td>\n",
       "      <td>1</td>\n",
       "      <td>0</td>\n",
       "      <td>1</td>\n",
       "    </tr>\n",
       "  </tbody>\n",
       "</table>\n",
       "</div>"
      ],
      "text/plain": [
       "   Age  Gender  Stream  Internships  CGPA  Hostel  HistoryOfBacklogs  \\\n",
       "0   22       1       3            1     8       1                  1   \n",
       "1   21       0       1            0     7       1                  1   \n",
       "2   22       0       4            1     6       0                  0   \n",
       "3   21       1       4            0     8       0                  1   \n",
       "4   22       1       5            0     8       1                  0   \n",
       "\n",
       "   PlacedOrNot  \n",
       "0            1  \n",
       "1            1  \n",
       "2            1  \n",
       "3            1  \n",
       "4            1  "
      ]
     },
     "execution_count": 10,
     "metadata": {},
     "output_type": "execute_result"
    }
   ],
   "source": [
    "data.head()"
   ]
  },
  {
   "cell_type": "code",
   "execution_count": 11,
   "id": "539d035d",
   "metadata": {
    "execution": {
     "iopub.execute_input": "2021-09-06T10:11:36.469837Z",
     "iopub.status.busy": "2021-09-06T10:11:36.468902Z",
     "iopub.status.idle": "2021-09-06T10:11:36.482402Z",
     "shell.execute_reply": "2021-09-06T10:11:36.481865Z",
     "shell.execute_reply.started": "2021-09-06T09:43:39.664495Z"
    },
    "papermill": {
     "duration": 0.050415,
     "end_time": "2021-09-06T10:11:36.482547",
     "exception": false,
     "start_time": "2021-09-06T10:11:36.432132",
     "status": "completed"
    },
    "tags": []
   },
   "outputs": [
    {
     "name": "stdout",
     "output_type": "stream",
     "text": [
      "<class 'pandas.core.frame.DataFrame'>\n",
      "RangeIndex: 2966 entries, 0 to 2965\n",
      "Data columns (total 8 columns):\n",
      " #   Column             Non-Null Count  Dtype\n",
      "---  ------             --------------  -----\n",
      " 0   Age                2966 non-null   int64\n",
      " 1   Gender             2966 non-null   int64\n",
      " 2   Stream             2966 non-null   int64\n",
      " 3   Internships        2966 non-null   int64\n",
      " 4   CGPA               2966 non-null   int64\n",
      " 5   Hostel             2966 non-null   int64\n",
      " 6   HistoryOfBacklogs  2966 non-null   int64\n",
      " 7   PlacedOrNot        2966 non-null   int64\n",
      "dtypes: int64(8)\n",
      "memory usage: 185.5 KB\n"
     ]
    }
   ],
   "source": [
    "data.info()"
   ]
  },
  {
   "cell_type": "markdown",
   "id": "07db5d03",
   "metadata": {
    "papermill": {
     "duration": 0.033816,
     "end_time": "2021-09-06T10:11:36.550613",
     "exception": false,
     "start_time": "2021-09-06T10:11:36.516797",
     "status": "completed"
    },
    "tags": []
   },
   "source": [
    "# Splitting Data Into X and Y"
   ]
  },
  {
   "cell_type": "code",
   "execution_count": 12,
   "id": "e6671edc",
   "metadata": {
    "execution": {
     "iopub.execute_input": "2021-09-06T10:11:36.626069Z",
     "iopub.status.busy": "2021-09-06T10:11:36.625074Z",
     "iopub.status.idle": "2021-09-06T10:11:36.629768Z",
     "shell.execute_reply": "2021-09-06T10:11:36.629097Z",
     "shell.execute_reply.started": "2021-09-06T09:43:39.685718Z"
    },
    "papermill": {
     "duration": 0.045094,
     "end_time": "2021-09-06T10:11:36.629908",
     "exception": false,
     "start_time": "2021-09-06T10:11:36.584814",
     "status": "completed"
    },
    "tags": []
   },
   "outputs": [],
   "source": [
    "Y = data[\"PlacedOrNot\"]\n",
    "X = data.drop(\"PlacedOrNot\",axis = 1)"
   ]
  },
  {
   "cell_type": "code",
   "execution_count": 13,
   "id": "f2ddba6c",
   "metadata": {
    "execution": {
     "iopub.execute_input": "2021-09-06T10:11:36.703527Z",
     "iopub.status.busy": "2021-09-06T10:11:36.702877Z",
     "iopub.status.idle": "2021-09-06T10:11:36.704933Z",
     "shell.execute_reply": "2021-09-06T10:11:36.705416Z",
     "shell.execute_reply.started": "2021-09-06T09:43:39.693534Z"
    },
    "papermill": {
     "duration": 0.041282,
     "end_time": "2021-09-06T10:11:36.705580",
     "exception": false,
     "start_time": "2021-09-06T10:11:36.664298",
     "status": "completed"
    },
    "tags": []
   },
   "outputs": [],
   "source": [
    "Y=pd.DataFrame(Y)"
   ]
  },
  {
   "cell_type": "code",
   "execution_count": 14,
   "id": "d110b378",
   "metadata": {
    "execution": {
     "iopub.execute_input": "2021-09-06T10:11:36.776580Z",
     "iopub.status.busy": "2021-09-06T10:11:36.775925Z",
     "iopub.status.idle": "2021-09-06T10:11:36.786642Z",
     "shell.execute_reply": "2021-09-06T10:11:36.787090Z",
     "shell.execute_reply.started": "2021-09-06T09:43:39.70473Z"
    },
    "papermill": {
     "duration": 0.047643,
     "end_time": "2021-09-06T10:11:36.787274",
     "exception": false,
     "start_time": "2021-09-06T10:11:36.739631",
     "status": "completed"
    },
    "tags": []
   },
   "outputs": [
    {
     "data": {
      "text/html": [
       "<div>\n",
       "<style scoped>\n",
       "    .dataframe tbody tr th:only-of-type {\n",
       "        vertical-align: middle;\n",
       "    }\n",
       "\n",
       "    .dataframe tbody tr th {\n",
       "        vertical-align: top;\n",
       "    }\n",
       "\n",
       "    .dataframe thead th {\n",
       "        text-align: right;\n",
       "    }\n",
       "</style>\n",
       "<table border=\"1\" class=\"dataframe\">\n",
       "  <thead>\n",
       "    <tr style=\"text-align: right;\">\n",
       "      <th></th>\n",
       "      <th>Age</th>\n",
       "      <th>Gender</th>\n",
       "      <th>Stream</th>\n",
       "      <th>Internships</th>\n",
       "      <th>CGPA</th>\n",
       "      <th>Hostel</th>\n",
       "      <th>HistoryOfBacklogs</th>\n",
       "    </tr>\n",
       "  </thead>\n",
       "  <tbody>\n",
       "    <tr>\n",
       "      <th>0</th>\n",
       "      <td>22</td>\n",
       "      <td>1</td>\n",
       "      <td>3</td>\n",
       "      <td>1</td>\n",
       "      <td>8</td>\n",
       "      <td>1</td>\n",
       "      <td>1</td>\n",
       "    </tr>\n",
       "    <tr>\n",
       "      <th>1</th>\n",
       "      <td>21</td>\n",
       "      <td>0</td>\n",
       "      <td>1</td>\n",
       "      <td>0</td>\n",
       "      <td>7</td>\n",
       "      <td>1</td>\n",
       "      <td>1</td>\n",
       "    </tr>\n",
       "    <tr>\n",
       "      <th>2</th>\n",
       "      <td>22</td>\n",
       "      <td>0</td>\n",
       "      <td>4</td>\n",
       "      <td>1</td>\n",
       "      <td>6</td>\n",
       "      <td>0</td>\n",
       "      <td>0</td>\n",
       "    </tr>\n",
       "    <tr>\n",
       "      <th>3</th>\n",
       "      <td>21</td>\n",
       "      <td>1</td>\n",
       "      <td>4</td>\n",
       "      <td>0</td>\n",
       "      <td>8</td>\n",
       "      <td>0</td>\n",
       "      <td>1</td>\n",
       "    </tr>\n",
       "    <tr>\n",
       "      <th>4</th>\n",
       "      <td>22</td>\n",
       "      <td>1</td>\n",
       "      <td>5</td>\n",
       "      <td>0</td>\n",
       "      <td>8</td>\n",
       "      <td>1</td>\n",
       "      <td>0</td>\n",
       "    </tr>\n",
       "  </tbody>\n",
       "</table>\n",
       "</div>"
      ],
      "text/plain": [
       "   Age  Gender  Stream  Internships  CGPA  Hostel  HistoryOfBacklogs\n",
       "0   22       1       3            1     8       1                  1\n",
       "1   21       0       1            0     7       1                  1\n",
       "2   22       0       4            1     6       0                  0\n",
       "3   21       1       4            0     8       0                  1\n",
       "4   22       1       5            0     8       1                  0"
      ]
     },
     "execution_count": 14,
     "metadata": {},
     "output_type": "execute_result"
    }
   ],
   "source": [
    "X.head()"
   ]
  },
  {
   "cell_type": "code",
   "execution_count": 15,
   "id": "d59b3f31",
   "metadata": {
    "execution": {
     "iopub.execute_input": "2021-09-06T10:11:36.861045Z",
     "iopub.status.busy": "2021-09-06T10:11:36.860070Z",
     "iopub.status.idle": "2021-09-06T10:11:36.869293Z",
     "shell.execute_reply": "2021-09-06T10:11:36.868773Z",
     "shell.execute_reply.started": "2021-09-06T09:43:39.724482Z"
    },
    "papermill": {
     "duration": 0.047493,
     "end_time": "2021-09-06T10:11:36.869453",
     "exception": false,
     "start_time": "2021-09-06T10:11:36.821960",
     "status": "completed"
    },
    "tags": []
   },
   "outputs": [
    {
     "data": {
      "text/html": [
       "<div>\n",
       "<style scoped>\n",
       "    .dataframe tbody tr th:only-of-type {\n",
       "        vertical-align: middle;\n",
       "    }\n",
       "\n",
       "    .dataframe tbody tr th {\n",
       "        vertical-align: top;\n",
       "    }\n",
       "\n",
       "    .dataframe thead th {\n",
       "        text-align: right;\n",
       "    }\n",
       "</style>\n",
       "<table border=\"1\" class=\"dataframe\">\n",
       "  <thead>\n",
       "    <tr style=\"text-align: right;\">\n",
       "      <th></th>\n",
       "      <th>PlacedOrNot</th>\n",
       "    </tr>\n",
       "  </thead>\n",
       "  <tbody>\n",
       "    <tr>\n",
       "      <th>0</th>\n",
       "      <td>1</td>\n",
       "    </tr>\n",
       "    <tr>\n",
       "      <th>1</th>\n",
       "      <td>1</td>\n",
       "    </tr>\n",
       "    <tr>\n",
       "      <th>2</th>\n",
       "      <td>1</td>\n",
       "    </tr>\n",
       "    <tr>\n",
       "      <th>3</th>\n",
       "      <td>1</td>\n",
       "    </tr>\n",
       "    <tr>\n",
       "      <th>4</th>\n",
       "      <td>1</td>\n",
       "    </tr>\n",
       "  </tbody>\n",
       "</table>\n",
       "</div>"
      ],
      "text/plain": [
       "   PlacedOrNot\n",
       "0            1\n",
       "1            1\n",
       "2            1\n",
       "3            1\n",
       "4            1"
      ]
     },
     "execution_count": 15,
     "metadata": {},
     "output_type": "execute_result"
    }
   ],
   "source": [
    "Y.head()"
   ]
  },
  {
   "cell_type": "markdown",
   "id": "56bfa024",
   "metadata": {
    "papermill": {
     "duration": 0.035617,
     "end_time": "2021-09-06T10:11:36.940230",
     "exception": false,
     "start_time": "2021-09-06T10:11:36.904613",
     "status": "completed"
    },
    "tags": []
   },
   "source": [
    "# Splitting Test Train Data"
   ]
  },
  {
   "cell_type": "code",
   "execution_count": 16,
   "id": "6c23caee",
   "metadata": {
    "execution": {
     "iopub.execute_input": "2021-09-06T10:11:37.013594Z",
     "iopub.status.busy": "2021-09-06T10:11:37.012955Z",
     "iopub.status.idle": "2021-09-06T10:11:37.021293Z",
     "shell.execute_reply": "2021-09-06T10:11:37.020727Z",
     "shell.execute_reply.started": "2021-09-06T09:43:39.733843Z"
    },
    "papermill": {
     "duration": 0.046066,
     "end_time": "2021-09-06T10:11:37.021447",
     "exception": false,
     "start_time": "2021-09-06T10:11:36.975381",
     "status": "completed"
    },
    "tags": []
   },
   "outputs": [],
   "source": [
    "# Break off validation set from training data\n",
    "X_train_full, X_valid_full, Y_train, Y_valid = train_test_split(X, Y, train_size=0.8, test_size=0.2,\n",
    "                                                                random_state=0)"
   ]
  },
  {
   "cell_type": "markdown",
   "id": "90826ac1",
   "metadata": {
    "papermill": {
     "duration": 0.034515,
     "end_time": "2021-09-06T10:11:37.091811",
     "exception": false,
     "start_time": "2021-09-06T10:11:37.057296",
     "status": "completed"
    },
    "tags": []
   },
   "source": [
    "# XGB Classifier"
   ]
  },
  {
   "cell_type": "code",
   "execution_count": 17,
   "id": "e9a4eb4b",
   "metadata": {
    "execution": {
     "iopub.execute_input": "2021-09-06T10:11:37.170530Z",
     "iopub.status.busy": "2021-09-06T10:11:37.169854Z",
     "iopub.status.idle": "2021-09-06T10:11:37.394379Z",
     "shell.execute_reply": "2021-09-06T10:11:37.394980Z",
     "shell.execute_reply.started": "2021-09-06T09:43:39.753272Z"
    },
    "papermill": {
     "duration": 0.266841,
     "end_time": "2021-09-06T10:11:37.395168",
     "exception": false,
     "start_time": "2021-09-06T10:11:37.128327",
     "status": "completed"
    },
    "tags": []
   },
   "outputs": [
    {
     "name": "stdout",
     "output_type": "stream",
     "text": [
      "accuracy_score: 0.9023569023569024\n"
     ]
    }
   ],
   "source": [
    "from xgboost import XGBClassifier\n",
    "from sklearn.model_selection import cross_val_score\n",
    "from sklearn.metrics import confusion_matrix, precision_score, recall_score, f1_score, accuracy_score, roc_auc_score\n",
    "# Define the model\n",
    "\n",
    "    \n",
    "    # defining the model\n",
    "clf = XGBClassifier(learning_rate=0.09, \n",
    "                    n_estimators=100, \n",
    "                    use_label_encoder=False,\n",
    "                    random_state=42)\n",
    "    \n",
    "clf.fit(X_train_full, Y_train, eval_metric='logloss')\n",
    "predictions = clf.predict(X_valid_full) \n",
    "print(\"accuracy_score: \" + str(accuracy_score(Y_valid, predictions)))"
   ]
  },
  {
   "cell_type": "code",
   "execution_count": 18,
   "id": "95a75ab3",
   "metadata": {
    "execution": {
     "iopub.execute_input": "2021-09-06T10:11:37.474407Z",
     "iopub.status.busy": "2021-09-06T10:11:37.473419Z",
     "iopub.status.idle": "2021-09-06T10:11:37.479430Z",
     "shell.execute_reply": "2021-09-06T10:11:37.478808Z",
     "shell.execute_reply.started": "2021-09-06T09:43:40.024467Z"
    },
    "papermill": {
     "duration": 0.046867,
     "end_time": "2021-09-06T10:11:37.479573",
     "exception": false,
     "start_time": "2021-09-06T10:11:37.432706",
     "status": "completed"
    },
    "tags": []
   },
   "outputs": [
    {
     "name": "stdout",
     "output_type": "stream",
     "text": [
      "f1_score: 0.9067524115755629\n"
     ]
    }
   ],
   "source": [
    "print(\"f1_score: \" + str(f1_score(Y_valid, predictions)))"
   ]
  },
  {
   "cell_type": "code",
   "execution_count": 19,
   "id": "8ff9bc0c",
   "metadata": {
    "execution": {
     "iopub.execute_input": "2021-09-06T10:11:37.557834Z",
     "iopub.status.busy": "2021-09-06T10:11:37.556894Z",
     "iopub.status.idle": "2021-09-06T10:11:37.561103Z",
     "shell.execute_reply": "2021-09-06T10:11:37.560618Z",
     "shell.execute_reply.started": "2021-09-06T09:43:40.033386Z"
    },
    "papermill": {
     "duration": 0.046183,
     "end_time": "2021-09-06T10:11:37.561236",
     "exception": false,
     "start_time": "2021-09-06T10:11:37.515053",
     "status": "completed"
    },
    "tags": []
   },
   "outputs": [
    {
     "data": {
      "text/plain": [
       "array([1, 1, 0, 0, 0, 0, 1, 1, 0, 1, 1, 1, 0, 1, 1, 0, 1, 0, 1, 0, 0, 1,\n",
       "       1, 0, 0, 0, 1, 1, 0, 0, 1, 0, 1, 1, 0, 1, 1, 0, 0, 0, 0, 1, 1, 1,\n",
       "       0, 1, 1, 0, 1, 0, 0, 0, 1, 1, 1, 0, 1, 1, 1, 0, 0, 1, 1, 1, 0, 0,\n",
       "       0, 0, 0, 1, 0, 0, 0, 1, 0, 1, 0, 0, 0, 0, 0, 0, 1, 0, 0, 0, 0, 1,\n",
       "       0, 1, 1, 0, 1, 0, 1, 0, 1, 0, 1, 1, 0, 0, 1, 1, 0, 0, 1, 1, 0, 0,\n",
       "       1, 0, 1, 0, 1, 1, 1, 1, 0, 0, 0, 0, 0, 0, 0, 1, 1, 0, 0, 1, 0, 1,\n",
       "       0, 0, 0, 1, 1, 0, 0, 0, 0, 0, 1, 0, 1, 0, 0, 0, 1, 0, 1, 1, 0, 0,\n",
       "       1, 0, 1, 1, 0, 1, 0, 1, 1, 1, 0, 0, 1, 0, 1, 1, 0, 0, 1, 1, 0, 1,\n",
       "       1, 0, 1, 1, 1, 0, 0, 1, 0, 0, 1, 0, 0, 1, 0, 1, 1, 0, 0, 1, 1, 1,\n",
       "       0, 0, 1, 1, 0, 0, 0, 0, 1, 1, 0, 0, 1, 0, 1, 1, 1, 0, 1, 1, 0, 1,\n",
       "       0, 0, 0, 0, 0, 1, 0, 1, 1, 1, 0, 1, 0, 1, 0, 1, 1, 1, 0, 0, 0, 1,\n",
       "       1, 0, 0, 1, 1, 0, 1, 1, 0, 0, 0, 0, 1, 1, 0, 1, 1, 0, 1, 1, 1, 0,\n",
       "       1, 0, 1, 1, 0, 0, 1, 0, 0, 1, 0, 1, 1, 0, 1, 1, 0, 1, 0, 0, 0, 0,\n",
       "       1, 1, 1, 1, 1, 0, 1, 0, 0, 1, 0, 0, 0, 1, 1, 1, 0, 1, 1, 0, 1, 0,\n",
       "       0, 1, 0, 1, 1, 0, 0, 0, 0, 0, 0, 1, 0, 1, 0, 0, 0, 1, 0, 1, 0, 1,\n",
       "       1, 1, 1, 1, 1, 0, 0, 1, 0, 0, 0, 0, 0, 0, 1, 1, 0, 1, 0, 0, 1, 1,\n",
       "       0, 1, 1, 1, 1, 0, 1, 0, 0, 0, 0, 0, 1, 0, 1, 1, 1, 0, 1, 0, 1, 1,\n",
       "       0, 0, 0, 1, 0, 0, 1, 0, 0, 0, 1, 0, 1, 0, 0, 0, 1, 1, 0, 0, 0, 0,\n",
       "       1, 0, 1, 1, 1, 0, 0, 0, 1, 1, 0, 0, 0, 1, 1, 0, 0, 1, 1, 1, 0, 0,\n",
       "       0, 0, 1, 0, 1, 1, 1, 1, 0, 0, 1, 0, 1, 1, 1, 0, 0, 1, 0, 0, 0, 0,\n",
       "       1, 1, 0, 0, 0, 0, 1, 1, 0, 1, 1, 0, 0, 1, 1, 1, 0, 1, 0, 1, 1, 1,\n",
       "       0, 0, 0, 0, 0, 1, 0, 1, 0, 1, 1, 0, 1, 1, 1, 1, 0, 1, 1, 1, 0, 0,\n",
       "       1, 1, 1, 1, 1, 0, 0, 1, 1, 1, 0, 1, 0, 1, 0, 1, 0, 0, 1, 0, 0, 0,\n",
       "       1, 1, 0, 1, 0, 0, 1, 1, 1, 0, 1, 0, 1, 1, 1, 1, 0, 1, 0, 0, 1, 0,\n",
       "       0, 0, 1, 0, 1, 0, 0, 1, 0, 1, 0, 1, 0, 1, 0, 0, 0, 0, 0, 1, 0, 0,\n",
       "       0, 1, 1, 1, 1, 1, 1, 1, 1, 1, 1, 0, 0, 1, 1, 1, 1, 0, 1, 0, 0, 0,\n",
       "       1, 1, 0, 1, 0, 1, 0, 0, 1, 0, 0, 0, 1, 0, 0, 0, 1, 1, 1, 0, 0, 0])"
      ]
     },
     "execution_count": 19,
     "metadata": {},
     "output_type": "execute_result"
    }
   ],
   "source": [
    "predictions\n"
   ]
  },
  {
   "cell_type": "code",
   "execution_count": 20,
   "id": "58e03449",
   "metadata": {
    "execution": {
     "iopub.execute_input": "2021-09-06T10:11:37.647521Z",
     "iopub.status.busy": "2021-09-06T10:11:37.646578Z",
     "iopub.status.idle": "2021-09-06T10:11:37.651198Z",
     "shell.execute_reply": "2021-09-06T10:11:37.650708Z",
     "shell.execute_reply.started": "2021-09-06T09:43:40.04531Z"
    },
    "papermill": {
     "duration": 0.053848,
     "end_time": "2021-09-06T10:11:37.651360",
     "exception": false,
     "start_time": "2021-09-06T10:11:37.597512",
     "status": "completed"
    },
    "tags": []
   },
   "outputs": [
    {
     "data": {
      "text/html": [
       "<div>\n",
       "<style scoped>\n",
       "    .dataframe tbody tr th:only-of-type {\n",
       "        vertical-align: middle;\n",
       "    }\n",
       "\n",
       "    .dataframe tbody tr th {\n",
       "        vertical-align: top;\n",
       "    }\n",
       "\n",
       "    .dataframe thead th {\n",
       "        text-align: right;\n",
       "    }\n",
       "</style>\n",
       "<table border=\"1\" class=\"dataframe\">\n",
       "  <thead>\n",
       "    <tr style=\"text-align: right;\">\n",
       "      <th></th>\n",
       "      <th>Age</th>\n",
       "      <th>Gender</th>\n",
       "      <th>Stream</th>\n",
       "      <th>Internships</th>\n",
       "      <th>CGPA</th>\n",
       "      <th>Hostel</th>\n",
       "      <th>HistoryOfBacklogs</th>\n",
       "    </tr>\n",
       "  </thead>\n",
       "  <tbody>\n",
       "    <tr>\n",
       "      <th>0</th>\n",
       "      <td>22</td>\n",
       "      <td>1</td>\n",
       "      <td>3</td>\n",
       "      <td>1</td>\n",
       "      <td>8</td>\n",
       "      <td>1</td>\n",
       "      <td>1</td>\n",
       "    </tr>\n",
       "    <tr>\n",
       "      <th>1</th>\n",
       "      <td>21</td>\n",
       "      <td>0</td>\n",
       "      <td>1</td>\n",
       "      <td>0</td>\n",
       "      <td>7</td>\n",
       "      <td>1</td>\n",
       "      <td>1</td>\n",
       "    </tr>\n",
       "    <tr>\n",
       "      <th>2</th>\n",
       "      <td>22</td>\n",
       "      <td>0</td>\n",
       "      <td>4</td>\n",
       "      <td>1</td>\n",
       "      <td>6</td>\n",
       "      <td>0</td>\n",
       "      <td>0</td>\n",
       "    </tr>\n",
       "    <tr>\n",
       "      <th>3</th>\n",
       "      <td>21</td>\n",
       "      <td>1</td>\n",
       "      <td>4</td>\n",
       "      <td>0</td>\n",
       "      <td>8</td>\n",
       "      <td>0</td>\n",
       "      <td>1</td>\n",
       "    </tr>\n",
       "    <tr>\n",
       "      <th>4</th>\n",
       "      <td>22</td>\n",
       "      <td>1</td>\n",
       "      <td>5</td>\n",
       "      <td>0</td>\n",
       "      <td>8</td>\n",
       "      <td>1</td>\n",
       "      <td>0</td>\n",
       "    </tr>\n",
       "    <tr>\n",
       "      <th>5</th>\n",
       "      <td>22</td>\n",
       "      <td>1</td>\n",
       "      <td>3</td>\n",
       "      <td>0</td>\n",
       "      <td>6</td>\n",
       "      <td>0</td>\n",
       "      <td>0</td>\n",
       "    </tr>\n",
       "    <tr>\n",
       "      <th>6</th>\n",
       "      <td>21</td>\n",
       "      <td>1</td>\n",
       "      <td>1</td>\n",
       "      <td>0</td>\n",
       "      <td>7</td>\n",
       "      <td>0</td>\n",
       "      <td>1</td>\n",
       "    </tr>\n",
       "    <tr>\n",
       "      <th>7</th>\n",
       "      <td>21</td>\n",
       "      <td>1</td>\n",
       "      <td>4</td>\n",
       "      <td>1</td>\n",
       "      <td>7</td>\n",
       "      <td>0</td>\n",
       "      <td>0</td>\n",
       "    </tr>\n",
       "    <tr>\n",
       "      <th>8</th>\n",
       "      <td>21</td>\n",
       "      <td>1</td>\n",
       "      <td>1</td>\n",
       "      <td>2</td>\n",
       "      <td>6</td>\n",
       "      <td>0</td>\n",
       "      <td>0</td>\n",
       "    </tr>\n",
       "    <tr>\n",
       "      <th>9</th>\n",
       "      <td>21</td>\n",
       "      <td>0</td>\n",
       "      <td>1</td>\n",
       "      <td>1</td>\n",
       "      <td>6</td>\n",
       "      <td>1</td>\n",
       "      <td>0</td>\n",
       "    </tr>\n",
       "    <tr>\n",
       "      <th>10</th>\n",
       "      <td>22</td>\n",
       "      <td>1</td>\n",
       "      <td>1</td>\n",
       "      <td>1</td>\n",
       "      <td>7</td>\n",
       "      <td>0</td>\n",
       "      <td>0</td>\n",
       "    </tr>\n",
       "    <tr>\n",
       "      <th>11</th>\n",
       "      <td>22</td>\n",
       "      <td>0</td>\n",
       "      <td>2</td>\n",
       "      <td>1</td>\n",
       "      <td>8</td>\n",
       "      <td>0</td>\n",
       "      <td>1</td>\n",
       "    </tr>\n",
       "    <tr>\n",
       "      <th>12</th>\n",
       "      <td>21</td>\n",
       "      <td>0</td>\n",
       "      <td>1</td>\n",
       "      <td>2</td>\n",
       "      <td>6</td>\n",
       "      <td>1</td>\n",
       "      <td>1</td>\n",
       "    </tr>\n",
       "    <tr>\n",
       "      <th>13</th>\n",
       "      <td>21</td>\n",
       "      <td>1</td>\n",
       "      <td>1</td>\n",
       "      <td>1</td>\n",
       "      <td>8</td>\n",
       "      <td>0</td>\n",
       "      <td>1</td>\n",
       "    </tr>\n",
       "    <tr>\n",
       "      <th>14</th>\n",
       "      <td>21</td>\n",
       "      <td>0</td>\n",
       "      <td>3</td>\n",
       "      <td>2</td>\n",
       "      <td>8</td>\n",
       "      <td>0</td>\n",
       "      <td>0</td>\n",
       "    </tr>\n",
       "    <tr>\n",
       "      <th>15</th>\n",
       "      <td>22</td>\n",
       "      <td>1</td>\n",
       "      <td>5</td>\n",
       "      <td>0</td>\n",
       "      <td>8</td>\n",
       "      <td>1</td>\n",
       "      <td>0</td>\n",
       "    </tr>\n",
       "    <tr>\n",
       "      <th>16</th>\n",
       "      <td>22</td>\n",
       "      <td>0</td>\n",
       "      <td>1</td>\n",
       "      <td>1</td>\n",
       "      <td>7</td>\n",
       "      <td>1</td>\n",
       "      <td>0</td>\n",
       "    </tr>\n",
       "    <tr>\n",
       "      <th>17</th>\n",
       "      <td>21</td>\n",
       "      <td>1</td>\n",
       "      <td>0</td>\n",
       "      <td>0</td>\n",
       "      <td>6</td>\n",
       "      <td>0</td>\n",
       "      <td>0</td>\n",
       "    </tr>\n",
       "  </tbody>\n",
       "</table>\n",
       "</div>"
      ],
      "text/plain": [
       "    Age  Gender  Stream  Internships  CGPA  Hostel  HistoryOfBacklogs\n",
       "0    22       1       3            1     8       1                  1\n",
       "1    21       0       1            0     7       1                  1\n",
       "2    22       0       4            1     6       0                  0\n",
       "3    21       1       4            0     8       0                  1\n",
       "4    22       1       5            0     8       1                  0\n",
       "5    22       1       3            0     6       0                  0\n",
       "6    21       1       1            0     7       0                  1\n",
       "7    21       1       4            1     7       0                  0\n",
       "8    21       1       1            2     6       0                  0\n",
       "9    21       0       1            1     6       1                  0\n",
       "10   22       1       1            1     7       0                  0\n",
       "11   22       0       2            1     8       0                  1\n",
       "12   21       0       1            2     6       1                  1\n",
       "13   21       1       1            1     8       0                  1\n",
       "14   21       0       3            2     8       0                  0\n",
       "15   22       1       5            0     8       1                  0\n",
       "16   22       0       1            1     7       1                  0\n",
       "17   21       1       0            0     6       0                  0"
      ]
     },
     "execution_count": 20,
     "metadata": {},
     "output_type": "execute_result"
    }
   ],
   "source": [
    "X.head(18)"
   ]
  },
  {
   "cell_type": "code",
   "execution_count": 21,
   "id": "1aa8d493",
   "metadata": {
    "execution": {
     "iopub.execute_input": "2021-09-06T10:11:37.733031Z",
     "iopub.status.busy": "2021-09-06T10:11:37.732166Z",
     "iopub.status.idle": "2021-09-06T10:11:37.736017Z",
     "shell.execute_reply": "2021-09-06T10:11:37.736475Z",
     "shell.execute_reply.started": "2021-09-06T09:43:40.065089Z"
    },
    "papermill": {
     "duration": 0.047898,
     "end_time": "2021-09-06T10:11:37.736649",
     "exception": false,
     "start_time": "2021-09-06T10:11:37.688751",
     "status": "completed"
    },
    "tags": []
   },
   "outputs": [
    {
     "data": {
      "text/plain": [
       "array([3, 1, 4, 5, 2, 0])"
      ]
     },
     "execution_count": 21,
     "metadata": {},
     "output_type": "execute_result"
    }
   ],
   "source": [
    "data['Stream'].unique()"
   ]
  },
  {
   "cell_type": "code",
   "execution_count": null,
   "id": "15f563b7",
   "metadata": {
    "execution": {
     "iopub.execute_input": "2021-09-06T09:58:30.222399Z",
     "iopub.status.busy": "2021-09-06T09:58:30.222024Z",
     "iopub.status.idle": "2021-09-06T09:58:46.236668Z",
     "shell.execute_reply": "2021-09-06T09:58:46.23577Z",
     "shell.execute_reply.started": "2021-09-06T09:58:30.222365Z"
    },
    "papermill": {
     "duration": 0.036814,
     "end_time": "2021-09-06T10:11:37.810206",
     "exception": false,
     "start_time": "2021-09-06T10:11:37.773392",
     "status": "completed"
    },
    "tags": []
   },
   "outputs": [],
   "source": []
  },
  {
   "cell_type": "markdown",
   "id": "f8ac5f5f",
   "metadata": {
    "papermill": {
     "duration": 0.036313,
     "end_time": "2021-09-06T10:11:37.883737",
     "exception": false,
     "start_time": "2021-09-06T10:11:37.847424",
     "status": "completed"
    },
    "tags": []
   },
   "source": [
    "# Using Randomized Search CV"
   ]
  },
  {
   "cell_type": "code",
   "execution_count": 22,
   "id": "002c52cb",
   "metadata": {
    "execution": {
     "iopub.execute_input": "2021-09-06T10:11:37.964146Z",
     "iopub.status.busy": "2021-09-06T10:11:37.963248Z",
     "iopub.status.idle": "2021-09-06T10:11:37.966080Z",
     "shell.execute_reply": "2021-09-06T10:11:37.966598Z",
     "shell.execute_reply.started": "2021-09-06T09:43:48.457516Z"
    },
    "papermill": {
     "duration": 0.046054,
     "end_time": "2021-09-06T10:11:37.966759",
     "exception": false,
     "start_time": "2021-09-06T10:11:37.920705",
     "status": "completed"
    },
    "tags": []
   },
   "outputs": [],
   "source": [
    "#Randomized Search CV\n",
    "\n",
    "# Number of trees in random forest\n",
    "n_estimators = [int(x) for x in np.linspace(start = 100, stop = 1200, num = 12)]\n",
    "# lr\n",
    "learning_rate = [ float(x) for x in [0.9, 0.1, 0.09, 0.01]]"
   ]
  },
  {
   "cell_type": "code",
   "execution_count": 23,
   "id": "e551afbc",
   "metadata": {
    "execution": {
     "iopub.execute_input": "2021-09-06T10:11:38.046010Z",
     "iopub.status.busy": "2021-09-06T10:11:38.045369Z",
     "iopub.status.idle": "2021-09-06T10:11:38.049356Z",
     "shell.execute_reply": "2021-09-06T10:11:38.048753Z",
     "shell.execute_reply.started": "2021-09-06T09:44:29.918296Z"
    },
    "papermill": {
     "duration": 0.045551,
     "end_time": "2021-09-06T10:11:38.049491",
     "exception": false,
     "start_time": "2021-09-06T10:11:38.003940",
     "status": "completed"
    },
    "tags": []
   },
   "outputs": [
    {
     "name": "stdout",
     "output_type": "stream",
     "text": [
      "{'n_estimators': [100, 200, 300, 400, 500, 600, 700, 800, 900, 1000, 1100, 1200], 'learning_rate': [0.9, 0.1, 0.09, 0.01]}\n"
     ]
    }
   ],
   "source": [
    "# Create the random grid\n",
    "random_grid = {'n_estimators': n_estimators,\n",
    "               'learning_rate': learning_rate,\n",
    "               }\n",
    "\n",
    "print(random_grid)\n"
   ]
  },
  {
   "cell_type": "code",
   "execution_count": 24,
   "id": "643bc19f",
   "metadata": {
    "execution": {
     "iopub.execute_input": "2021-09-06T10:11:38.128111Z",
     "iopub.status.busy": "2021-09-06T10:11:38.127495Z",
     "iopub.status.idle": "2021-09-06T10:11:38.130399Z",
     "shell.execute_reply": "2021-09-06T10:11:38.130852Z",
     "shell.execute_reply.started": "2021-09-06T09:45:22.222493Z"
    },
    "papermill": {
     "duration": 0.044505,
     "end_time": "2021-09-06T10:11:38.131016",
     "exception": false,
     "start_time": "2021-09-06T10:11:38.086511",
     "status": "completed"
    },
    "tags": []
   },
   "outputs": [],
   "source": [
    "clf2 = XGBClassifier()"
   ]
  },
  {
   "cell_type": "code",
   "execution_count": 25,
   "id": "acf84777",
   "metadata": {
    "execution": {
     "iopub.execute_input": "2021-09-06T10:11:38.210185Z",
     "iopub.status.busy": "2021-09-06T10:11:38.209583Z",
     "iopub.status.idle": "2021-09-06T10:11:38.212878Z",
     "shell.execute_reply": "2021-09-06T10:11:38.212333Z",
     "shell.execute_reply.started": "2021-09-06T09:46:17.191676Z"
    },
    "papermill": {
     "duration": 0.044992,
     "end_time": "2021-09-06T10:11:38.213008",
     "exception": false,
     "start_time": "2021-09-06T10:11:38.168016",
     "status": "completed"
    },
    "tags": []
   },
   "outputs": [],
   "source": [
    "model = RandomizedSearchCV(estimator = clf2, param_distributions = random_grid, n_iter = 10, cv = 5, verbose=2, random_state=42, n_jobs = 1)"
   ]
  },
  {
   "cell_type": "code",
   "execution_count": 26,
   "id": "0e07e8bf",
   "metadata": {
    "execution": {
     "iopub.execute_input": "2021-09-06T10:11:38.296442Z",
     "iopub.status.busy": "2021-09-06T10:11:38.293488Z",
     "iopub.status.idle": "2021-09-06T10:11:58.355256Z",
     "shell.execute_reply": "2021-09-06T10:11:58.354565Z",
     "shell.execute_reply.started": "2021-09-06T09:46:48.020636Z"
    },
    "papermill": {
     "duration": 20.105166,
     "end_time": "2021-09-06T10:11:58.355466",
     "exception": false,
     "start_time": "2021-09-06T10:11:38.250300",
     "status": "completed"
    },
    "tags": []
   },
   "outputs": [
    {
     "name": "stdout",
     "output_type": "stream",
     "text": [
      "Fitting 5 folds for each of 10 candidates, totalling 50 fits\n",
      "[CV] n_estimators=400, learning_rate=0.09 ............................\n"
     ]
    },
    {
     "name": "stderr",
     "output_type": "stream",
     "text": [
      "[Parallel(n_jobs=1)]: Using backend SequentialBackend with 1 concurrent workers.\n",
      "/opt/conda/lib/python3.7/site-packages/xgboost/sklearn.py:1146: UserWarning: The use of label encoder in XGBClassifier is deprecated and will be removed in a future release. To remove this warning, do the following: 1) Pass option use_label_encoder=False when constructing XGBClassifier object; and 2) Encode your labels (y) as integers starting with 0, i.e. 0, 1, 2, ..., [num_class - 1].\n",
      "  warnings.warn(label_encoder_deprecation_msg, UserWarning)\n",
      "/opt/conda/lib/python3.7/site-packages/sklearn/utils/validation.py:72: DataConversionWarning: A column-vector y was passed when a 1d array was expected. Please change the shape of y to (n_samples, ), for example using ravel().\n",
      "  return f(**kwargs)\n"
     ]
    },
    {
     "name": "stdout",
     "output_type": "stream",
     "text": [
      "[CV] ............. n_estimators=400, learning_rate=0.09, total=   0.4s\n",
      "[CV] n_estimators=400, learning_rate=0.09 ............................\n"
     ]
    },
    {
     "name": "stderr",
     "output_type": "stream",
     "text": [
      "[Parallel(n_jobs=1)]: Done   1 out of   1 | elapsed:    0.4s remaining:    0.0s\n"
     ]
    },
    {
     "name": "stdout",
     "output_type": "stream",
     "text": [
      "[CV] ............. n_estimators=400, learning_rate=0.09, total=   0.4s\n",
      "[CV] n_estimators=400, learning_rate=0.09 ............................\n",
      "[CV] ............. n_estimators=400, learning_rate=0.09, total=   0.4s\n",
      "[CV] n_estimators=400, learning_rate=0.09 ............................\n",
      "[CV] ............. n_estimators=400, learning_rate=0.09, total=   0.4s\n",
      "[CV] n_estimators=400, learning_rate=0.09 ............................\n",
      "[CV] ............. n_estimators=400, learning_rate=0.09, total=   0.4s\n",
      "[CV] n_estimators=500, learning_rate=0.01 ............................\n",
      "[CV] ............. n_estimators=500, learning_rate=0.01, total=   0.5s\n",
      "[CV] n_estimators=500, learning_rate=0.01 ............................\n",
      "[CV] ............. n_estimators=500, learning_rate=0.01, total=   0.5s\n",
      "[CV] n_estimators=500, learning_rate=0.01 ............................\n",
      "[CV] ............. n_estimators=500, learning_rate=0.01, total=   0.5s\n",
      "[CV] n_estimators=500, learning_rate=0.01 ............................\n",
      "[CV] ............. n_estimators=500, learning_rate=0.01, total=   0.5s\n",
      "[CV] n_estimators=500, learning_rate=0.01 ............................\n",
      "[CV] ............. n_estimators=500, learning_rate=0.01, total=   0.5s\n",
      "[CV] n_estimators=300, learning_rate=0.09 ............................\n",
      "[CV] ............. n_estimators=300, learning_rate=0.09, total=   0.3s\n",
      "[CV] n_estimators=300, learning_rate=0.09 ............................\n",
      "[CV] ............. n_estimators=300, learning_rate=0.09, total=   0.3s\n",
      "[CV] n_estimators=300, learning_rate=0.09 ............................\n",
      "[CV] ............. n_estimators=300, learning_rate=0.09, total=   0.3s\n",
      "[CV] n_estimators=300, learning_rate=0.09 ............................\n",
      "[CV] ............. n_estimators=300, learning_rate=0.09, total=   0.3s\n",
      "[CV] n_estimators=300, learning_rate=0.09 ............................\n",
      "[CV] ............. n_estimators=300, learning_rate=0.09, total=   0.3s\n",
      "[CV] n_estimators=800, learning_rate=0.01 ............................\n",
      "[CV] ............. n_estimators=800, learning_rate=0.01, total=   0.8s\n",
      "[CV] n_estimators=800, learning_rate=0.01 ............................\n",
      "[CV] ............. n_estimators=800, learning_rate=0.01, total=   0.8s\n",
      "[CV] n_estimators=800, learning_rate=0.01 ............................\n",
      "[CV] ............. n_estimators=800, learning_rate=0.01, total=   0.8s\n",
      "[CV] n_estimators=800, learning_rate=0.01 ............................\n",
      "[CV] ............. n_estimators=800, learning_rate=0.01, total=   0.8s\n",
      "[CV] n_estimators=800, learning_rate=0.01 ............................\n",
      "[CV] ............. n_estimators=800, learning_rate=0.01, total=   0.8s\n",
      "[CV] n_estimators=100, learning_rate=0.09 ............................\n",
      "[CV] ............. n_estimators=100, learning_rate=0.09, total=   0.1s\n",
      "[CV] n_estimators=100, learning_rate=0.09 ............................\n",
      "[CV] ............. n_estimators=100, learning_rate=0.09, total=   0.1s\n",
      "[CV] n_estimators=100, learning_rate=0.09 ............................\n",
      "[CV] ............. n_estimators=100, learning_rate=0.09, total=   0.1s\n",
      "[CV] n_estimators=100, learning_rate=0.09 ............................\n",
      "[CV] ............. n_estimators=100, learning_rate=0.09, total=   0.1s\n",
      "[CV] n_estimators=100, learning_rate=0.09 ............................\n",
      "[CV] ............. n_estimators=100, learning_rate=0.09, total=   0.1s\n",
      "[CV] n_estimators=200, learning_rate=0.01 ............................\n",
      "[CV] ............. n_estimators=200, learning_rate=0.01, total=   0.2s\n",
      "[CV] n_estimators=200, learning_rate=0.01 ............................\n",
      "[CV] ............. n_estimators=200, learning_rate=0.01, total=   0.2s\n",
      "[CV] n_estimators=200, learning_rate=0.01 ............................\n",
      "[CV] ............. n_estimators=200, learning_rate=0.01, total=   0.2s\n",
      "[CV] n_estimators=200, learning_rate=0.01 ............................\n",
      "[CV] ............. n_estimators=200, learning_rate=0.01, total=   0.2s\n",
      "[CV] n_estimators=200, learning_rate=0.01 ............................\n",
      "[CV] ............. n_estimators=200, learning_rate=0.01, total=   0.2s\n",
      "[CV] n_estimators=100, learning_rate=0.1 .............................\n",
      "[CV] .............. n_estimators=100, learning_rate=0.1, total=   0.1s\n",
      "[CV] n_estimators=100, learning_rate=0.1 .............................\n",
      "[CV] .............. n_estimators=100, learning_rate=0.1, total=   0.1s\n",
      "[CV] n_estimators=100, learning_rate=0.1 .............................\n",
      "[CV] .............. n_estimators=100, learning_rate=0.1, total=   0.1s\n",
      "[CV] n_estimators=100, learning_rate=0.1 .............................\n",
      "[CV] .............. n_estimators=100, learning_rate=0.1, total=   0.1s\n",
      "[CV] n_estimators=100, learning_rate=0.1 .............................\n",
      "[CV] .............. n_estimators=100, learning_rate=0.1, total=   0.1s\n",
      "[CV] n_estimators=800, learning_rate=0.1 .............................\n",
      "[CV] .............. n_estimators=800, learning_rate=0.1, total=   0.8s\n",
      "[CV] n_estimators=800, learning_rate=0.1 .............................\n",
      "[CV] .............. n_estimators=800, learning_rate=0.1, total=   0.8s\n",
      "[CV] n_estimators=800, learning_rate=0.1 .............................\n",
      "[CV] .............. n_estimators=800, learning_rate=0.1, total=   0.8s\n",
      "[CV] n_estimators=800, learning_rate=0.1 .............................\n",
      "[CV] .............. n_estimators=800, learning_rate=0.1, total=   0.8s\n",
      "[CV] n_estimators=800, learning_rate=0.1 .............................\n",
      "[CV] .............. n_estimators=800, learning_rate=0.1, total=   0.8s\n",
      "[CV] n_estimators=500, learning_rate=0.9 .............................\n",
      "[CV] .............. n_estimators=500, learning_rate=0.9, total=   0.5s\n",
      "[CV] n_estimators=500, learning_rate=0.9 .............................\n",
      "[CV] .............. n_estimators=500, learning_rate=0.9, total=   0.5s\n",
      "[CV] n_estimators=500, learning_rate=0.9 .............................\n",
      "[CV] .............. n_estimators=500, learning_rate=0.9, total=   0.5s\n",
      "[CV] n_estimators=500, learning_rate=0.9 .............................\n",
      "[CV] .............. n_estimators=500, learning_rate=0.9, total=   0.5s\n",
      "[CV] n_estimators=500, learning_rate=0.9 .............................\n",
      "[CV] .............. n_estimators=500, learning_rate=0.9, total=   0.6s\n",
      "[CV] n_estimators=200, learning_rate=0.09 ............................\n",
      "[CV] ............. n_estimators=200, learning_rate=0.09, total=   0.2s\n",
      "[CV] n_estimators=200, learning_rate=0.09 ............................\n",
      "[CV] ............. n_estimators=200, learning_rate=0.09, total=   0.2s\n",
      "[CV] n_estimators=200, learning_rate=0.09 ............................\n",
      "[CV] ............. n_estimators=200, learning_rate=0.09, total=   0.2s\n",
      "[CV] n_estimators=200, learning_rate=0.09 ............................\n",
      "[CV] ............. n_estimators=200, learning_rate=0.09, total=   0.2s\n",
      "[CV] n_estimators=200, learning_rate=0.09 ............................\n",
      "[CV] ............. n_estimators=200, learning_rate=0.09, total=   0.2s\n"
     ]
    },
    {
     "name": "stderr",
     "output_type": "stream",
     "text": [
      "[Parallel(n_jobs=1)]: Done  50 out of  50 | elapsed:   19.9s finished\n"
     ]
    },
    {
     "data": {
      "text/plain": [
       "RandomizedSearchCV(cv=5,\n",
       "                   estimator=XGBClassifier(base_score=None, booster=None,\n",
       "                                           colsample_bylevel=None,\n",
       "                                           colsample_bynode=None,\n",
       "                                           colsample_bytree=None, gamma=None,\n",
       "                                           gpu_id=None, importance_type='gain',\n",
       "                                           interaction_constraints=None,\n",
       "                                           learning_rate=None,\n",
       "                                           max_delta_step=None, max_depth=None,\n",
       "                                           min_child_weight=None, missing=nan,\n",
       "                                           monotone_constraints=None,\n",
       "                                           n_estimators=100, n_jobs=None,\n",
       "                                           num_parallel_tree=None,\n",
       "                                           random_state=None, reg_alpha=None,\n",
       "                                           reg_lambda=None,\n",
       "                                           scale_pos_weight=None,\n",
       "                                           subsample=None, tree_method=None,\n",
       "                                           validate_parameters=None,\n",
       "                                           verbosity=None),\n",
       "                   n_jobs=1,\n",
       "                   param_distributions={'learning_rate': [0.9, 0.1, 0.09, 0.01],\n",
       "                                        'n_estimators': [100, 200, 300, 400,\n",
       "                                                         500, 600, 700, 800,\n",
       "                                                         900, 1000, 1100,\n",
       "                                                         1200]},\n",
       "                   random_state=42, verbose=2)"
      ]
     },
     "execution_count": 26,
     "metadata": {},
     "output_type": "execute_result"
    }
   ],
   "source": [
    "model.fit(X_train_full, Y_train, eval_metric='logloss')"
   ]
  },
  {
   "cell_type": "code",
   "execution_count": 27,
   "id": "ee8182f1",
   "metadata": {
    "execution": {
     "iopub.execute_input": "2021-09-06T10:11:58.465961Z",
     "iopub.status.busy": "2021-09-06T10:11:58.465102Z",
     "iopub.status.idle": "2021-09-06T10:11:58.469194Z",
     "shell.execute_reply": "2021-09-06T10:11:58.468591Z",
     "shell.execute_reply.started": "2021-09-06T09:47:39.874959Z"
    },
    "papermill": {
     "duration": 0.061255,
     "end_time": "2021-09-06T10:11:58.469353",
     "exception": false,
     "start_time": "2021-09-06T10:11:58.408098",
     "status": "completed"
    },
    "tags": []
   },
   "outputs": [
    {
     "data": {
      "text/plain": [
       "{'n_estimators': 100, 'learning_rate': 0.1}"
      ]
     },
     "execution_count": 27,
     "metadata": {},
     "output_type": "execute_result"
    }
   ],
   "source": [
    "model.best_params_"
   ]
  },
  {
   "cell_type": "code",
   "execution_count": 28,
   "id": "b92a20a0",
   "metadata": {
    "execution": {
     "iopub.execute_input": "2021-09-06T10:11:58.581538Z",
     "iopub.status.busy": "2021-09-06T10:11:58.578649Z",
     "iopub.status.idle": "2021-09-06T10:11:58.590704Z",
     "shell.execute_reply": "2021-09-06T10:11:58.591784Z",
     "shell.execute_reply.started": "2021-09-06T09:48:49.352655Z"
    },
    "papermill": {
     "duration": 0.069997,
     "end_time": "2021-09-06T10:11:58.592034",
     "exception": false,
     "start_time": "2021-09-06T10:11:58.522037",
     "status": "completed"
    },
    "tags": []
   },
   "outputs": [
    {
     "name": "stdout",
     "output_type": "stream",
     "text": [
      "accuracy_score: 0.8956228956228957\n"
     ]
    }
   ],
   "source": [
    "predictions2 = model.predict(X_valid_full) \n",
    "print(\"accuracy_score: \" + str(accuracy_score(Y_valid, predictions2)))"
   ]
  },
  {
   "cell_type": "markdown",
   "id": "2bb7d580",
   "metadata": {
    "papermill": {
     "duration": 0.052075,
     "end_time": "2021-09-06T10:11:58.699398",
     "exception": false,
     "start_time": "2021-09-06T10:11:58.647323",
     "status": "completed"
    },
    "tags": []
   },
   "source": [
    "# Making Predictions"
   ]
  },
  {
   "cell_type": "markdown",
   "id": "7f49751e",
   "metadata": {
    "papermill": {
     "duration": 0.052694,
     "end_time": "2021-09-06T10:11:58.805231",
     "exception": false,
     "start_time": "2021-09-06T10:11:58.752537",
     "status": "completed"
    },
    "tags": []
   },
   "source": [
    "## Uncomment the section for realtime input"
   ]
  },
  {
   "cell_type": "code",
   "execution_count": 29,
   "id": "d76cbb59",
   "metadata": {
    "execution": {
     "iopub.execute_input": "2021-09-06T10:11:58.919182Z",
     "iopub.status.busy": "2021-09-06T10:11:58.918360Z",
     "iopub.status.idle": "2021-09-06T10:11:58.925882Z",
     "shell.execute_reply": "2021-09-06T10:11:58.926642Z",
     "shell.execute_reply.started": "2021-09-06T10:10:59.400385Z"
    },
    "papermill": {
     "duration": 0.068608,
     "end_time": "2021-09-06T10:11:58.926888",
     "exception": false,
     "start_time": "2021-09-06T10:11:58.858280",
     "status": "completed"
    },
    "tags": []
   },
   "outputs": [
    {
     "name": "stdout",
     "output_type": "stream",
     "text": [
      "\n",
      "You have high chances of getting placed\n"
     ]
    }
   ],
   "source": [
    "\"\"\"print(\"Enter Age : \")\n",
    "age=int(input())\n",
    "print(\"\\nEnter Gender(M/F) : \")\n",
    "gen=input()\n",
    "if(gen=='M'):\n",
    "    gender=1\n",
    "    gender=int(gender)\n",
    "elif(gen=='F'):\n",
    "    gender=0\n",
    "    gender=int(gender)\n",
    "print(\"\\nEnter Stream(ECE/CS/IT/MEC/ELE/CIV) : \")\n",
    "stre=input()\n",
    "if(stre=='ECE'):\n",
    "    stream=3\n",
    "elif(stre=='CS'):\n",
    "    stream=1\n",
    "elif(stre=='IT'):\n",
    "    stream=4\n",
    "elif(stre=='MEC'):\n",
    "    stream=5\n",
    "elif(stre=='ELE'):\n",
    "    stream=2\n",
    "elif(stre=='CIV'):\n",
    "    stream=0\n",
    "stream=int(stream)\n",
    "print(\"\\nEnter Number of Internships Done : \")\n",
    "intern = int(input())\n",
    "print(\"\\nEnter CGPA : \")\n",
    "cgpa=int(input())\n",
    "print(\"\\nEnter Hostel Accommodation : \")\n",
    "hostel=int(input())\n",
    "print(\"\\nEnter number of backlogs : \")\n",
    "back=int(input())\"\"\"\n",
    "age=20\n",
    "gender=1\n",
    "stream=1\n",
    "intern=3\n",
    "cgpa=8\n",
    "hostel=1\n",
    "back=1\n",
    "pred = clf.predict(np.array([[age,gender,stream,intern,cgpa,hostel,back]]))\n",
    "if(pred==1):\n",
    "    print(\"\\nYou have high chances of getting placed\")\n",
    "else:\n",
    "    print(\"\\nYou have high chances of getting placed. Work more Hard!\")"
   ]
  },
  {
   "cell_type": "code",
   "execution_count": null,
   "id": "1f6ba8fc",
   "metadata": {
    "papermill": {
     "duration": 0.053329,
     "end_time": "2021-09-06T10:11:59.036687",
     "exception": false,
     "start_time": "2021-09-06T10:11:58.983358",
     "status": "completed"
    },
    "tags": []
   },
   "outputs": [],
   "source": []
  }
 ],
 "metadata": {
  "kernelspec": {
   "display_name": "Python 3",
   "language": "python",
   "name": "python3"
  },
  "language_info": {
   "codemirror_mode": {
    "name": "ipython",
    "version": 3
   },
   "file_extension": ".py",
   "mimetype": "text/x-python",
   "name": "python",
   "nbconvert_exporter": "python",
   "pygments_lexer": "ipython3",
   "version": "3.7.10"
  },
  "papermill": {
   "default_parameters": {},
   "duration": 35.3963,
   "end_time": "2021-09-06T10:11:59.900451",
   "environment_variables": {},
   "exception": null,
   "input_path": "__notebook__.ipynb",
   "output_path": "__notebook__.ipynb",
   "parameters": {},
   "start_time": "2021-09-06T10:11:24.504151",
   "version": "2.3.3"
  }
 },
 "nbformat": 4,
 "nbformat_minor": 5
}
